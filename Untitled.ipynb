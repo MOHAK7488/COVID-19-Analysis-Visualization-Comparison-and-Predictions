{
 "cells": [
  {
   "cell_type": "code",
   "execution_count": 1,
   "metadata": {},
   "outputs": [],
   "source": [
    "import plotly.express as px\n",
    "from jupyter_dash import JupyterDash\n",
    "import dash_core_components as dcc\n",
    "import dash_html_components as html\n",
    "import pandas as pd"
   ]
  },
  {
   "cell_type": "code",
   "execution_count": 2,
   "metadata": {},
   "outputs": [],
   "source": [
    "output=[]\n",
    "i=0"
   ]
  },
  {
   "cell_type": "code",
   "execution_count": 3,
   "metadata": {},
   "outputs": [
    {
     "name": "stderr",
     "output_type": "stream",
     "text": [
      "<ipython-input-3-6875cdf8ff31>:3: FutureWarning: Indexing with multiple keys (implicitly converted to a tuple of keys) will be deprecated, use a list instead.\n",
      "  world = df.groupby(\"Country\")['Confirmed','Recovered','Deaths'].sum().reset_index()\n"
     ]
    }
   ],
   "source": [
    "df = pd.read_csv(\"Datasets/covid_19_data.csv\")\n",
    "df.rename(columns={'Country/Region': \"Country\"}, inplace=True)\n",
    "world = df.groupby(\"Country\")['Confirmed','Recovered','Deaths'].sum().reset_index()\n",
    "fig =dcc.Graph(id=\"Graph\"+str(i),figure= px.choropleth(world,locations='Country', locationmode='country names', color='Confirmed', hover_name='Country', color_continuous_scale='tealgrn', range_color=[1,1000000],title=\"Country Wise Data Analysis on Covid-19 till date\"))\n",
    "output.append(fig)"
   ]
  },
  {
   "cell_type": "code",
   "execution_count": 4,
   "metadata": {},
   "outputs": [],
   "source": [
    "df[\"ObservationDate\"] = pd.DatetimeIndex(df[\"ObservationDate\"])\n",
    "fig2 = dcc.Graph(id='Graph'+str(i+1),figure = px.line(x=df['ObservationDate'], y=df['Confirmed'], labels={'x':'Observation Dates', 'y':'Number of Reports'},title='Reported Deaths Time Series'))\n",
    "output.append(fig2)"
   ]
  },
  {
   "cell_type": "code",
   "execution_count": 5,
   "metadata": {},
   "outputs": [],
   "source": [
    "dead_df = pd.read_csv(\"Datasets/time_series_covid_19_deaths.csv\")\n",
    "dead_df.drop(['Province/State','Lat','Long'],axis=1,inplace=True)\n",
    "new_dead_df=dead_df.groupby(\"Country/Region\").sum()\n",
    "new_de_df = new_dead_df['8/7/20']\n",
    "new_de_df = pd.DataFrame(new_de_df).reset_index()\n",
    "new_de_df.rename(columns={'Country/Region': \"Countries\",'8/7/20':'Death Cases'},inplace=True)\n",
    "output.append(dcc.Graph(id='fig4',figure=px.line(new_de_df,x=new_de_df[\"Countries\"],y=new_de_df[\"Death Cases\"],title='Time Series Analysis of Death Cases')))"
   ]
  },
  {
   "cell_type": "code",
   "execution_count": 6,
   "metadata": {},
   "outputs": [],
   "source": [
    "recover_df = pd.read_csv(\"Datasets/time_series_covid_19_recovered.csv\")\n",
    "recover_df.drop(['Province/State','Lat','Long'],axis=1,inplace=True)\n",
    "new_recover_df=recover_df.groupby(\"Country/Region\").sum()\n",
    "new_re_df = new_recover_df['8/7/20']\n",
    "new_re_df = pd.DataFrame(new_re_df).reset_index()\n",
    "new_re_df.rename(columns={'Country/Region': \"Countries\",'8/7/20':'Recovered Cases'},inplace=True)\n",
    "new_re_df.head()\n",
    "output.append(dcc.Graph(id='fig5',figure=px.line(new_re_df,x=new_re_df[\"Countries\"],y=new_re_df[\"Recovered Cases\"],title='Time Series Analysis of Recovered Cases')))"
   ]
  },
  {
   "cell_type": "code",
   "execution_count": 7,
   "metadata": {},
   "outputs": [],
   "source": [
    "ac_df = pd.read_csv(\"Datasets/COVID-19_Cases_Summarized_by_Age_Group.csv\")\n",
    "ac_df.drop(columns=[\"Specimen Collection Date\",'New Confirmed Cases','Last Updated at'],inplace=True)\n",
    "ac_df = ac_df.groupby(\"Age Group\").sum().reset_index()\n",
    "output.append(dcc.Graph(id='fig6',figure=px.line(ac_df,x=ac_df[\"Age Group\"],y=ac_df[\"Cumulative Confirmed Cases\"],title='Predict Age Cases on Covid-19 between Age Group')))"
   ]
  },
  {
   "cell_type": "code",
   "execution_count": 8,
   "metadata": {},
   "outputs": [],
   "source": [
    "ag_df = pd.read_csv(\"Datasets/Provisional_COVID-19_Death_Counts_by_Sex__Age__and_State.csv\")\n",
    "ag_df = ag_df[[\"Age group\",\"COVID-19 Deaths\"]]\n",
    "ag_df = ag_df.groupby(\"Age group\").sum().reset_index()\n",
    "ag_df = ag_df.drop(ag_df.index[9:12])\n",
    "output.append(dcc.Graph(id='fig7',figure=px.line(ag_df,x=ag_df[\"Age group\"],y=ag_df[\"COVID-19 Deaths\"],title='Predicting Highly affected Age group due to Covid-19')))"
   ]
  },
  {
   "cell_type": "code",
   "execution_count": 9,
   "metadata": {},
   "outputs": [],
   "source": [
    "app = JupyterDash(__name__)"
   ]
  },
  {
   "cell_type": "code",
   "execution_count": 10,
   "metadata": {},
   "outputs": [],
   "source": [
    "app.layout = html.Div(children=output)"
   ]
  },
  {
   "cell_type": "code",
   "execution_count": 11,
   "metadata": {},
   "outputs": [
    {
     "name": "stdout",
     "output_type": "stream",
     "text": [
      "Dash app running on http://127.0.0.1:8050/\n"
     ]
    }
   ],
   "source": [
    "app.run_server(mode='external')"
   ]
  },
  {
   "cell_type": "code",
   "execution_count": 12,
   "metadata": {},
   "outputs": [
    {
     "name": "stderr",
     "output_type": "stream",
     "text": [
      "t=2020-08-19T19:12:30+0530 lvl=eror msg=\"failed to reconnect session\" obj=csess id=ccac41d39629 err=\"dial tcp: lookup tunnel.us.ngrok.com: no such host\"\n",
      "\n"
     ]
    },
    {
     "ename": "PyngrokNgrokError",
     "evalue": "The ngrok process errored on start: dial tcp: lookup tunnel.us.ngrok.com: no such host.",
     "output_type": "error",
     "traceback": [
      "\u001b[1;31m---------------------------------------------------------------------------\u001b[0m",
      "\u001b[1;31mPyngrokNgrokError\u001b[0m                         Traceback (most recent call last)",
      "\u001b[1;32m<ipython-input-12-afe3019fc46e>\u001b[0m in \u001b[0;36m<module>\u001b[1;34m\u001b[0m\n\u001b[0;32m      1\u001b[0m \u001b[1;32mfrom\u001b[0m \u001b[0mpyngrok\u001b[0m \u001b[1;32mimport\u001b[0m \u001b[0mngrok\u001b[0m\u001b[1;33m\u001b[0m\u001b[1;33m\u001b[0m\u001b[0m\n\u001b[1;32m----> 2\u001b[1;33m \u001b[0mngrok\u001b[0m\u001b[1;33m.\u001b[0m\u001b[0mconnect\u001b[0m\u001b[1;33m(\u001b[0m\u001b[0mport\u001b[0m \u001b[1;33m=\u001b[0m \u001b[1;34m'8050'\u001b[0m\u001b[1;33m)\u001b[0m\u001b[1;33m\u001b[0m\u001b[1;33m\u001b[0m\u001b[0m\n\u001b[0m",
      "\u001b[1;32mc:\\users\\mohak goel\\appdata\\local\\programs\\python\\python38\\lib\\site-packages\\pyngrok\\ngrok.py\u001b[0m in \u001b[0;36mconnect\u001b[1;34m(port, proto, name, options, pyngrok_config)\u001b[0m\n\u001b[0;32m    174\u001b[0m     \u001b[0moptions\u001b[0m\u001b[1;33m.\u001b[0m\u001b[0mupdate\u001b[0m\u001b[1;33m(\u001b[0m\u001b[0mconfig\u001b[0m\u001b[1;33m)\u001b[0m\u001b[1;33m\u001b[0m\u001b[1;33m\u001b[0m\u001b[0m\n\u001b[0;32m    175\u001b[0m \u001b[1;33m\u001b[0m\u001b[0m\n\u001b[1;32m--> 176\u001b[1;33m     \u001b[0mapi_url\u001b[0m \u001b[1;33m=\u001b[0m \u001b[0mget_ngrok_process\u001b[0m\u001b[1;33m(\u001b[0m\u001b[0mpyngrok_config\u001b[0m\u001b[1;33m)\u001b[0m\u001b[1;33m.\u001b[0m\u001b[0mapi_url\u001b[0m\u001b[1;33m\u001b[0m\u001b[1;33m\u001b[0m\u001b[0m\n\u001b[0m\u001b[0;32m    177\u001b[0m \u001b[1;33m\u001b[0m\u001b[0m\n\u001b[0;32m    178\u001b[0m     \u001b[0mlogger\u001b[0m\u001b[1;33m.\u001b[0m\u001b[0mdebug\u001b[0m\u001b[1;33m(\u001b[0m\u001b[1;34m\"Connecting tunnel with options: {}\"\u001b[0m\u001b[1;33m.\u001b[0m\u001b[0mformat\u001b[0m\u001b[1;33m(\u001b[0m\u001b[0moptions\u001b[0m\u001b[1;33m)\u001b[0m\u001b[1;33m)\u001b[0m\u001b[1;33m\u001b[0m\u001b[1;33m\u001b[0m\u001b[0m\n",
      "\u001b[1;32mc:\\users\\mohak goel\\appdata\\local\\programs\\python\\python38\\lib\\site-packages\\pyngrok\\ngrok.py\u001b[0m in \u001b[0;36mget_ngrok_process\u001b[1;34m(pyngrok_config)\u001b[0m\n\u001b[0;32m    126\u001b[0m     \u001b[0mensure_ngrok_installed\u001b[0m\u001b[1;33m(\u001b[0m\u001b[0mpyngrok_config\u001b[0m\u001b[1;33m.\u001b[0m\u001b[0mngrok_path\u001b[0m\u001b[1;33m)\u001b[0m\u001b[1;33m\u001b[0m\u001b[1;33m\u001b[0m\u001b[0m\n\u001b[0;32m    127\u001b[0m \u001b[1;33m\u001b[0m\u001b[0m\n\u001b[1;32m--> 128\u001b[1;33m     \u001b[1;32mreturn\u001b[0m \u001b[0mprocess\u001b[0m\u001b[1;33m.\u001b[0m\u001b[0mget_process\u001b[0m\u001b[1;33m(\u001b[0m\u001b[0mpyngrok_config\u001b[0m\u001b[1;33m)\u001b[0m\u001b[1;33m\u001b[0m\u001b[1;33m\u001b[0m\u001b[0m\n\u001b[0m\u001b[0;32m    129\u001b[0m \u001b[1;33m\u001b[0m\u001b[0m\n\u001b[0;32m    130\u001b[0m \u001b[1;33m\u001b[0m\u001b[0m\n",
      "\u001b[1;32mc:\\users\\mohak goel\\appdata\\local\\programs\\python\\python38\\lib\\site-packages\\pyngrok\\process.py\u001b[0m in \u001b[0;36mget_process\u001b[1;34m(pyngrok_config)\u001b[0m\n\u001b[0;32m    280\u001b[0m             \u001b[0m_current_processes\u001b[0m\u001b[1;33m.\u001b[0m\u001b[0mpop\u001b[0m\u001b[1;33m(\u001b[0m\u001b[0mpyngrok_config\u001b[0m\u001b[1;33m.\u001b[0m\u001b[0mngrok_path\u001b[0m\u001b[1;33m,\u001b[0m \u001b[1;32mNone\u001b[0m\u001b[1;33m)\u001b[0m\u001b[1;33m\u001b[0m\u001b[1;33m\u001b[0m\u001b[0m\n\u001b[0;32m    281\u001b[0m \u001b[1;33m\u001b[0m\u001b[0m\n\u001b[1;32m--> 282\u001b[1;33m     \u001b[1;32mreturn\u001b[0m \u001b[0m_start_process\u001b[0m\u001b[1;33m(\u001b[0m\u001b[0mpyngrok_config\u001b[0m\u001b[1;33m)\u001b[0m\u001b[1;33m\u001b[0m\u001b[1;33m\u001b[0m\u001b[0m\n\u001b[0m\u001b[0;32m    283\u001b[0m \u001b[1;33m\u001b[0m\u001b[0m\n\u001b[0;32m    284\u001b[0m \u001b[1;33m\u001b[0m\u001b[0m\n",
      "\u001b[1;32mc:\\users\\mohak goel\\appdata\\local\\programs\\python\\python38\\lib\\site-packages\\pyngrok\\process.py\u001b[0m in \u001b[0;36m_start_process\u001b[1;34m(pyngrok_config)\u001b[0m\n\u001b[0;32m    419\u001b[0m \u001b[1;33m\u001b[0m\u001b[0m\n\u001b[0;32m    420\u001b[0m         \u001b[1;32mif\u001b[0m \u001b[0mngrok_process\u001b[0m\u001b[1;33m.\u001b[0m\u001b[0mstartup_error\u001b[0m \u001b[1;32mis\u001b[0m \u001b[1;32mnot\u001b[0m \u001b[1;32mNone\u001b[0m\u001b[1;33m:\u001b[0m\u001b[1;33m\u001b[0m\u001b[1;33m\u001b[0m\u001b[0m\n\u001b[1;32m--> 421\u001b[1;33m             raise PyngrokNgrokError(\"The ngrok process errored on start: {}.\".format(ngrok_process.startup_error),\n\u001b[0m\u001b[0;32m    422\u001b[0m                                     \u001b[0mngrok_process\u001b[0m\u001b[1;33m.\u001b[0m\u001b[0mlogs\u001b[0m\u001b[1;33m,\u001b[0m\u001b[1;33m\u001b[0m\u001b[1;33m\u001b[0m\u001b[0m\n\u001b[0;32m    423\u001b[0m                                     ngrok_process.startup_error)\n",
      "\u001b[1;31mPyngrokNgrokError\u001b[0m: The ngrok process errored on start: dial tcp: lookup tunnel.us.ngrok.com: no such host."
     ]
    }
   ],
   "source": [
    "from pyngrok import ngrok\n",
    "ngrok.connect(port = '8050')"
   ]
  }
 ],
 "metadata": {
  "kernelspec": {
   "display_name": "Python 3",
   "language": "python",
   "name": "python3"
  }
 },
 "nbformat": 4,
 "nbformat_minor": 4
}
