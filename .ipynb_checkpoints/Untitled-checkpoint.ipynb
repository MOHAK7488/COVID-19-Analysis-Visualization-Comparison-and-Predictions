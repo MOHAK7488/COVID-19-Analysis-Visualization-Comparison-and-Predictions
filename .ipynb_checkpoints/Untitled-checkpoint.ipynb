{
 "cells": [
  {
   "cell_type": "code",
   "execution_count": 1,
   "metadata": {},
   "outputs": [],
   "source": [
    "import plotly.express as px\n",
    "from jupyter_dash import JupyterDash\n",
    "import dash_core_components as dcc\n",
    "import dash_html_components as html\n",
    "import pandas as pd"
   ]
  },
  {
   "cell_type": "code",
   "execution_count": 2,
   "metadata": {},
   "outputs": [],
   "source": [
    "output=[]\n",
    "i=0"
   ]
  },
  {
   "cell_type": "code",
   "execution_count": 3,
   "metadata": {},
   "outputs": [
    {
     "name": "stderr",
     "output_type": "stream",
     "text": [
      "<ipython-input-3-6875cdf8ff31>:3: FutureWarning: Indexing with multiple keys (implicitly converted to a tuple of keys) will be deprecated, use a list instead.\n",
      "  world = df.groupby(\"Country\")['Confirmed','Recovered','Deaths'].sum().reset_index()\n"
     ]
    }
   ],
   "source": [
    "df = pd.read_csv(\"Datasets/covid_19_data.csv\")\n",
    "df.rename(columns={'Country/Region': \"Country\"}, inplace=True)\n",
    "world = df.groupby(\"Country\")['Confirmed','Recovered','Deaths'].sum().reset_index()\n",
    "fig =dcc.Graph(id=\"Graph\"+str(i),figure= px.choropleth(world,locations='Country', locationmode='country names', color='Confirmed', hover_name='Country', color_continuous_scale='tealgrn', range_color=[1,1000000],title=\"Country Wise Data Analysis on Covid-19 till date\"))\n",
    "output.append(fig)"
   ]
  },
  {
   "cell_type": "code",
   "execution_count": 4,
   "metadata": {},
   "outputs": [],
   "source": [
    "df[\"ObservationDate\"] = pd.DatetimeIndex(df[\"ObservationDate\"])\n",
    "fig2 = dcc.Graph(id='Graph'+str(i+1),figure = px.line(x=df['ObservationDate'], y=df['Confirmed'], labels={'x':'Observation Dates', 'y':'Number of Reports'},title='Reported Deaths Time Series'))\n",
    "output.append(fig2)"
   ]
  },
  {
   "cell_type": "code",
   "execution_count": 5,
   "metadata": {},
   "outputs": [],
   "source": [
    "dead_df = pd.read_csv(\"Datasets/time_series_covid_19_deaths.csv\")\n",
    "dead_df.drop(['Province/State','Lat','Long'],axis=1,inplace=True)\n",
    "new_dead_df=dead_df.groupby(\"Country/Region\").sum()\n",
    "new_de_df = new_dead_df['8/7/20']\n",
    "new_de_df = pd.DataFrame(new_de_df).reset_index()\n",
    "new_de_df.rename(columns={'Country/Region': \"Countries\",'8/7/20':'Death Cases'},inplace=True)\n",
    "output.append(dcc.Graph(id='fig4',figure=px.line(new_de_df,x=new_de_df[\"Countries\"],y=new_de_df[\"Death Cases\"],title='Time Series Analysis of Death Cases')))"
   ]
  },
  {
   "cell_type": "code",
   "execution_count": 6,
   "metadata": {},
   "outputs": [],
   "source": [
    "recover_df = pd.read_csv(\"Datasets/time_series_covid_19_recovered.csv\")\n",
    "recover_df.drop(['Province/State','Lat','Long'],axis=1,inplace=True)\n",
    "new_recover_df=recover_df.groupby(\"Country/Region\").sum()\n",
    "new_re_df = new_recover_df['8/7/20']\n",
    "new_re_df = pd.DataFrame(new_re_df).reset_index()\n",
    "new_re_df.rename(columns={'Country/Region': \"Countries\",'8/7/20':'Recovered Cases'},inplace=True)\n",
    "new_re_df.head()\n",
    "output.append(dcc.Graph(id='fig5',figure=px.line(new_re_df,x=new_re_df[\"Countries\"],y=new_re_df[\"Recovered Cases\"],title='Time Series Analysis of Recovered Cases')))"
   ]
  },
  {
   "cell_type": "code",
   "execution_count": 7,
   "metadata": {},
   "outputs": [],
   "source": [
    "ac_df = pd.read_csv(\"Datasets/COVID-19_Cases_Summarized_by_Age_Group.csv\")\n",
    "ac_df.drop(columns=[\"Specimen Collection Date\",'New Confirmed Cases','Last Updated at'],inplace=True)\n",
    "ac_df = ac_df.groupby(\"Age Group\").sum().reset_index()\n",
    "output.append(dcc.Graph(id='fig6',figure=px.line(ac_df,x=ac_df[\"Age Group\"],y=ac_df[\"Cumulative Confirmed Cases\"],title='Predict Age Cases on Covid-19 between Age Group')))"
   ]
  },
  {
   "cell_type": "code",
   "execution_count": 8,
   "metadata": {},
   "outputs": [],
   "source": [
    "ag_df = pd.read_csv(\"Datasets/Provisional_COVID-19_Death_Counts_by_Sex__Age__and_State.csv\")\n",
    "ag_df = ag_df[[\"Age group\",\"COVID-19 Deaths\"]]\n",
    "ag_df = ag_df.groupby(\"Age group\").sum().reset_index()\n",
    "ag_df = ag_df.drop(ag_df.index[9:12])\n",
    "output.append(dcc.Graph(id='fig7',figure=px.line(ag_df,x=ag_df[\"Age group\"],y=ag_df[\"COVID-19 Deaths\"],title='Predicting Highly affected Age group due to Covid-19')))"
   ]
  },
  {
   "cell_type": "code",
   "execution_count": 9,
   "metadata": {},
   "outputs": [],
   "source": [
    "app = JupyterDash(__name__)"
   ]
  },
  {
   "cell_type": "code",
   "execution_count": 10,
   "metadata": {},
   "outputs": [],
   "source": [
    "app.layout = html.Div(children=output)"
   ]
  },
  {
   "cell_type": "code",
   "execution_count": 11,
   "metadata": {},
   "outputs": [
    {
     "name": "stdout",
     "output_type": "stream",
     "text": [
      "Dash app running on http://127.0.0.1:8050/\n"
     ]
    }
   ],
   "source": [
    "app.run_server(mode='external')"
   ]
  },
  {
   "cell_type": "code",
   "execution_count": 12,
   "metadata": {},
   "outputs": [
    {
     "data": {
      "text/plain": [
       "'http://279e2ed326f0.ngrok.io'"
      ]
     },
     "execution_count": 12,
     "metadata": {},
     "output_type": "execute_result"
    }
   ],
   "source": [
    "from pyngrok import ngrok\n",
    "ngrok.connect(port = '8050')"
   ]
  }
 ],
 "metadata": {
  "kernelspec": {
   "display_name": "Python 3",
   "language": "python",
   "name": "python3"
  },
  "language_info": {
   "codemirror_mode": {
    "name": "ipython",
    "version": 3
   },
   "file_extension": ".py",
   "mimetype": "text/x-python",
   "name": "python",
   "nbconvert_exporter": "python",
   "pygments_lexer": "ipython3",
   "version": "3.8.5"
  }
 },
 "nbformat": 4,
 "nbformat_minor": 4
}
